{
  "nbformat": 4,
  "nbformat_minor": 0,
  "metadata": {
    "colab": {
      "provenance": [],
      "mount_file_id": "1wT5fY994xwvbt-IENDUH-5SLnNbJFVy6",
      "authorship_tag": "ABX9TyPtwdRyCzFRFeIieNigIvHg",
      "include_colab_link": true
    },
    "kernelspec": {
      "name": "python3",
      "display_name": "Python 3"
    },
    "language_info": {
      "name": "python"
    }
  },
  "cells": [
    {
      "cell_type": "markdown",
      "metadata": {
        "id": "view-in-github",
        "colab_type": "text"
      },
      "source": [
        "<a href=\"https://colab.research.google.com/github/Emchi26/3erChallenge-AluraLatam-AaronCapellino/blob/main/3er_Challenge.ipynb\" target=\"_parent\"><img src=\"https://colab.research.google.com/assets/colab-badge.svg\" alt=\"Open In Colab\"/></a>"
      ]
    },
    {
      "cell_type": "markdown",
      "source": [
        "# **3er Challenge - TelecomX - Aaron Capellino**\n",
        "\n",
        "---"
      ],
      "metadata": {
        "id": "LLJ5vMV5TVZZ"
      }
    },
    {
      "cell_type": "markdown",
      "source": [
        "## **Preparación de los datos**"
      ],
      "metadata": {
        "id": "ZfDl-tV6Te4j"
      }
    },
    {
      "cell_type": "markdown",
      "source": [
        "### Extracción del Archivo Tratado"
      ],
      "metadata": {
        "id": "ltLVEau2aVVR"
      }
    },
    {
      "cell_type": "code",
      "source": [],
      "metadata": {
        "id": "Gbpdeqyxkd2N"
      },
      "execution_count": null,
      "outputs": []
    },
    {
      "cell_type": "markdown",
      "source": [
        "### Eliminación de Columnas Irrelevantes"
      ],
      "metadata": {
        "id": "-l0A_zwraZdl"
      }
    },
    {
      "cell_type": "markdown",
      "source": [
        "### Encoding"
      ],
      "metadata": {
        "id": "ZtdQYQqtadR8"
      }
    },
    {
      "cell_type": "markdown",
      "source": [
        "### Verificación de la Proporción de Cancelación (Churn)"
      ],
      "metadata": {
        "id": "7DAMbodhafOR"
      }
    },
    {
      "cell_type": "markdown",
      "source": [
        "### Balanceo de Clases (opcional)"
      ],
      "metadata": {
        "id": "_58GWx5waj3r"
      }
    },
    {
      "cell_type": "markdown",
      "source": [
        "### Normalización o Estandarización (si es necesario)"
      ],
      "metadata": {
        "id": "pa5LGOLNamxM"
      }
    },
    {
      "cell_type": "markdown",
      "source": [
        "---\n",
        "\n",
        "## **Correlación y Selección de variables**"
      ],
      "metadata": {
        "id": "nDsa0JQATsTg"
      }
    },
    {
      "cell_type": "markdown",
      "source": [
        "### Análisis de Correlación"
      ],
      "metadata": {
        "id": "4ANL1NSZarG6"
      }
    },
    {
      "cell_type": "markdown",
      "source": [
        "### Análisis Dirigido"
      ],
      "metadata": {
        "id": "pGFgn1QYatbc"
      }
    },
    {
      "cell_type": "markdown",
      "source": [
        "---\n",
        "\n",
        "## **Modelo Predictivo**"
      ],
      "metadata": {
        "id": "rJCxoLulTpKT"
      }
    },
    {
      "cell_type": "markdown",
      "source": [
        "### Separación de Datos"
      ],
      "metadata": {
        "id": "jkc1Gl1va2eK"
      }
    },
    {
      "cell_type": "markdown",
      "source": [
        "### Creación de Modelos"
      ],
      "metadata": {
        "id": "YNoscFXRbF5N"
      }
    },
    {
      "cell_type": "markdown",
      "source": [
        "### Evaluación de los Modelos"
      ],
      "metadata": {
        "id": "gwSDdGUibKSc"
      }
    },
    {
      "cell_type": "markdown",
      "source": [
        "---\n",
        "\n",
        "## **Interpretación y conclusiones**"
      ],
      "metadata": {
        "id": "rG4nAH3hUJQK"
      }
    },
    {
      "cell_type": "code",
      "execution_count": null,
      "metadata": {
        "id": "YMi7Cv40TT1p"
      },
      "outputs": [],
      "source": []
    }
  ]
}